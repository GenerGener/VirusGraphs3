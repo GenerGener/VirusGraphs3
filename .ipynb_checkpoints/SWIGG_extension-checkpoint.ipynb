{
 "cells": [
  {
   "cell_type": "code",
   "execution_count": 3,
   "metadata": {},
   "outputs": [],
   "source": [
    "from collections import defaultdict\n",
    "import argparse\n",
    "\n",
    "import numpy as np\n",
    "import pandas as pd\n",
    "\n",
    "from collections import Counter\n",
    "from Bio import SeqIO\n",
    "import networkx as nx\n",
    "\n",
    "import matplotlib.pyplot as plt"
   ]
  },
  {
   "cell_type": "code",
   "execution_count": 8,
   "metadata": {
    "collapsed": true
   },
   "outputs": [],
   "source": [
    "import sys\n",
    "import os\n",
    "sys.setrecursionlimit(500524)"
   ]
  },
  {
   "cell_type": "code",
   "execution_count": 5,
   "metadata": {
    "collapsed": true
   },
   "outputs": [],
   "source": [
    "class DFSOBJ:\n",
    "    supernode_dict = defaultdict()\n",
    "    supernodes = [[]]\n",
    "    snid_g = 0\n",
    "    sn_adj = defaultdict(list)\n",
    "\n",
    "    def DFS(this, source, graph):\n",
    "        visited = defaultdict()\n",
    "        this.sn_adj = defaultdict(list)\n",
    "        this.supernodes = [[]]\n",
    "        this.snid_g = 0\n",
    "        this.supernode_dict = defaultdict()\n",
    "        return this.DFS_sub(source, visited, graph, False)\n",
    "\n",
    "    def DFS_sub(this, curr, visited, graph, split):\n",
    "        visited[curr] = 1\n",
    "        # determine if a split is needed\n",
    "        if split or graph.in_degree(curr)>1 or graph.out_degree(curr)>1:\n",
    "            this.supernodes.append([curr])\n",
    "            this.sn_adj[this.snid_g].append(this.snid_g+1)\n",
    "            this.snid_g+=1\n",
    "        else:\n",
    "            this.supernodes[this.snid_g].append(curr)\n",
    "        this.supernode_dict[curr] = this.snid_g\n",
    "        if graph.out_degree(curr)>1:\n",
    "            split = True\n",
    "        else:\n",
    "            split = False\n",
    "\n",
    "    #     print(supernodes)\n",
    "        for n in graph.neighbors(curr):\n",
    "            if n not in visited:\n",
    "                this.DFS_sub(n, visited, graph, split)\n",
    "    #             print(pro)\n",
    "    #             if pro and snid_2 not in sn_adj[snid]:\n",
    "    #                 sn_adj[snid].append(snid_2)\n",
    "            else:\n",
    "                if this.supernode_dict[n] not in this.sn_adj[this.snid_g]:\n",
    "                    this.sn_adj[this.snid_g].append(this.supernode_dict[n])"
   ]
  },
  {
   "cell_type": "code",
   "execution_count": 25,
   "metadata": {},
   "outputs": [
    {
     "name": "stdout",
     "output_type": "stream",
     "text": [
      "====== Seqn = 0\n",
      "=========== K-mer lengths = 500\n",
      "Number of nodes:  802975\n",
      "Number of edges:  848167\n",
      "Contracting nodes...\n",
      "Number of nodes: 347\n",
      "Number of edges: 410\n",
      "====== Seqn = 100\n",
      "=========== K-mer lengths = 500\n",
      "Number of nodes:  820466\n",
      "Number of edges:  849297\n",
      "Contracting nodes...\n",
      "Number of nodes: 181\n",
      "Number of edges: 201\n",
      "====== Seqn = 200\n",
      "=========== K-mer lengths = 500\n",
      "Number of nodes:  820198\n",
      "Number of edges:  848594\n",
      "Contracting nodes...\n",
      "Number of nodes: 248\n",
      "Number of edges: 285\n",
      "====== Seqn = 300\n",
      "=========== K-mer lengths = 500\n",
      "Number of nodes:  823203\n",
      "Number of edges:  850823\n",
      "Contracting nodes...\n",
      "Number of nodes: 212\n",
      "Number of edges: 241\n",
      "====== Seqn = 400\n",
      "=========== K-mer lengths = 500\n",
      "Number of nodes:  801298\n",
      "Number of edges:  849158\n",
      "Contracting nodes...\n",
      "Number of nodes: 356\n",
      "Number of edges: 421\n",
      "====== Seqn = 500\n",
      "=========== K-mer lengths = 500\n",
      "Number of nodes:  818101\n",
      "Number of edges:  849358\n",
      "Contracting nodes...\n",
      "Number of nodes: 212\n",
      "Number of edges: 238\n",
      "====== Seqn = 600\n",
      "=========== K-mer lengths = 500\n",
      "Number of nodes:  780449\n",
      "Number of edges:  849517\n",
      "Contracting nodes...\n",
      "Number of nodes: 320\n",
      "Number of edges: 374\n",
      "====== Seqn = 700\n",
      "=========== K-mer lengths = 500\n",
      "Number of nodes:  809849\n",
      "Number of edges:  849272\n",
      "Contracting nodes...\n",
      "Number of nodes: 220\n",
      "Number of edges: 250\n",
      "====== Seqn = 800\n",
      "=========== K-mer lengths = 500\n",
      "Number of nodes:  825873\n",
      "Number of edges:  848503\n",
      "Contracting nodes...\n",
      "Number of nodes: 220\n",
      "Number of edges: 249\n",
      "====== Seqn = 900\n",
      "=========== K-mer lengths = 500\n",
      "Number of nodes:  739906\n",
      "Number of edges:  807943\n",
      "Contracting nodes...\n",
      "Number of nodes: 265\n",
      "Number of edges: 310\n"
     ]
    }
   ],
   "source": [
    "seq_list = []\n",
    "k_lengths = [500]\n",
    "\n",
    "fasta = [\"../HIV3.fasta\"]\n",
    "outputname = os.path.basename(fasta[0]).split(\".\")[0]\n",
    "\n",
    "for seqq in fasta:\n",
    "    seq_list = seq_list + [(str(a.id),str(a.seq)) for a in list(SeqIO.parse(seqq, \"fasta\"))]\n",
    "\n",
    "# random experiments\n",
    "np.random.shuffle(seq_list)\n",
    "    \n",
    "for seqn in range(0,1000,100):\n",
    "    print(\"====== Seqn = \"+ str(seqn))\n",
    "    seq_df = pd.DataFrame(seq_list[seqn:seqn+100])\n",
    "    #seq_df = pd.DataFrame(seq_list).head()\n",
    "    seq_df.columns = [\"name\",\"Sequence\"]\n",
    "\n",
    "    name_dict = list(enumerate(seq_df[\"name\"]))\n",
    "\n",
    "    for k_length in k_lengths:\n",
    "        print(\"=========== K-mer lengths = \"+str(k_length))\n",
    "        kmer_pos_dict = defaultdict(list)\n",
    "        kmer_name_dict = defaultdict(list)\n",
    "        kmer_pos_dict = defaultdict(list)\n",
    "        kmer_dict = set()\n",
    "        for i in range(len(seq_df)):\n",
    "            name = i\n",
    "#             print(name)\n",
    "            seq = seq_df.loc[i,\"Sequence\"]\n",
    "            for j in range(len(seq)-k_length+1):\n",
    "                kmer_dict.add(seq[j:j+k_length])\n",
    "        #     print(i,seq[j:j+k_length])\n",
    "        kmer_id_list = dict(zip(sorted(list(kmer_dict)), list(range(1,len(kmer_dict)+1))))\n",
    "        id_kmer_list = dict(zip(list(range(1,len(kmer_dict)+1)),sorted(list(kmer_dict))))\n",
    "\n",
    "        edges = defaultdict(list)\n",
    "        for i in range(len(seq_df)):\n",
    "            name = i\n",
    "            seq = seq_df.loc[i,\"Sequence\"]\n",
    "            edges[0].append(kmer_id_list[seq[:k_length]])\n",
    "            for j in range(len(seq)-k_length-1):\n",
    "                edges[kmer_id_list[seq[j:j+k_length]]].append(kmer_id_list[seq[j+1:j+k_length+1]])\n",
    "                kmer_name_dict[kmer_id_list[seq[j:j+k_length]]].append(name)\n",
    "                kmer_pos_dict[kmer_id_list[seq[j:j+k_length]]].append(j)\n",
    "            kmer_name_dict[kmer_id_list[seq[len(seq)-k_length:]]].append(name)\n",
    "            kmer_pos_dict[kmer_id_list[seq[len(seq)-k_length:]]].append(j)\n",
    "\n",
    "        G = nx.DiGraph()\n",
    "\n",
    "        print(\"Number of nodes: \",len(kmer_id_list))\n",
    "        num = 0\n",
    "        edges_list = []\n",
    "        for j in edges:\n",
    "            for i in edges[j]:\n",
    "                G.add_edge(j,i)\n",
    "                edges_list.append((j,i))\n",
    "                num+=1\n",
    "        print(\"Number of edges: \",num)\n",
    "        \n",
    "        print(\"Contracting nodes...\")\n",
    "        source = [i for i in G.in_degree() if i[1]==0]\n",
    "        a = DFSOBJ()\n",
    "        a.DFS(0, G)\n",
    "\n",
    "        new_G = nx.DiGraph()\n",
    "        for i in a.sn_adj:\n",
    "            for j in a.sn_adj[i]:\n",
    "                new_G.add_edge(i, j)\n",
    "        print(\"Number of nodes: \" + str(len(new_G.nodes)))\n",
    "        print(\"Number of edges: \" + str(len(new_G.edges)))\n",
    "        nx.write_gexf(new_G, \"../HIV3_500mer_100_random/compactSWIGG_\"+outputname+\"_\"+str(k_length)+\"_\"+str(seqn)+\".gexf\")"
   ]
  },
  {
   "cell_type": "code",
   "execution_count": 14,
   "metadata": {
    "collapsed": true
   },
   "outputs": [],
   "source": [
    "kmer_appear_times = defaultdict()\n",
    "pos_appear_times = defaultdict()\n",
    "for i in kmer_pos_dict:\n",
    "    times = len(kmer_pos_dict[i])\n",
    "    kmer_appear_times[i] = times\n",
    "    for j in kmer_pos_dict[i]:\n",
    "        pos_appear_times[j] = times"
   ]
  },
  {
   "cell_type": "code",
   "execution_count": 793,
   "metadata": {
    "collapsed": true
   },
   "outputs": [],
   "source": [
    "sorted_kmer_appear_times=sorted(kmer_appear_times.keys(), key= lambda x: kmer_appear_times[x])"
   ]
  },
  {
   "cell_type": "code",
   "execution_count": 794,
   "metadata": {},
   "outputs": [
    {
     "ename": "KeyError",
     "evalue": "0",
     "output_type": "error",
     "traceback": [
      "\u001b[0;31m---------------------------------------------------------------------------\u001b[0m",
      "\u001b[0;31mKeyError\u001b[0m                                  Traceback (most recent call last)",
      "\u001b[0;32m<ipython-input-794-d1f514bedc28>\u001b[0m in \u001b[0;36m<module>\u001b[0;34m\u001b[0m\n\u001b[1;32m      6\u001b[0m     \u001b[0mtimes\u001b[0m \u001b[0;34m=\u001b[0m \u001b[0;36m0\u001b[0m\u001b[0;34m\u001b[0m\u001b[0;34m\u001b[0m\u001b[0m\n\u001b[1;32m      7\u001b[0m     \u001b[0;32mfor\u001b[0m \u001b[0mj\u001b[0m \u001b[0;32min\u001b[0m \u001b[0mrange\u001b[0m\u001b[0;34m(\u001b[0m\u001b[0;36m0\u001b[0m\u001b[0;34m,\u001b[0m\u001b[0mwindowsize\u001b[0m\u001b[0;34m)\u001b[0m\u001b[0;34m:\u001b[0m\u001b[0;34m\u001b[0m\u001b[0;34m\u001b[0m\u001b[0m\n\u001b[0;32m----> 8\u001b[0;31m         \u001b[0mtimes\u001b[0m \u001b[0;34m+=\u001b[0m \u001b[0mkmer_appear_times\u001b[0m\u001b[0;34m[\u001b[0m\u001b[0mi\u001b[0m\u001b[0;34m+\u001b[0m\u001b[0mj\u001b[0m\u001b[0;34m]\u001b[0m\u001b[0;34m\u001b[0m\u001b[0;34m\u001b[0m\u001b[0m\n\u001b[0m\u001b[1;32m      9\u001b[0m     \u001b[0mkmer_appear_times_list\u001b[0m\u001b[0;34m[\u001b[0m\u001b[0;36m1\u001b[0m\u001b[0;34m]\u001b[0m\u001b[0;34m.\u001b[0m\u001b[0mappend\u001b[0m\u001b[0;34m(\u001b[0m\u001b[0mtimes\u001b[0m\u001b[0;34m)\u001b[0m\u001b[0;34m\u001b[0m\u001b[0;34m\u001b[0m\u001b[0m\n\u001b[1;32m     10\u001b[0m     \u001b[0mi\u001b[0m \u001b[0;34m=\u001b[0m \u001b[0mi\u001b[0m \u001b[0;34m+\u001b[0m \u001b[0mwindowsize\u001b[0m\u001b[0;34m\u001b[0m\u001b[0;34m\u001b[0m\u001b[0m\n",
      "\u001b[0;31mKeyError\u001b[0m: 0"
     ]
    }
   ],
   "source": [
    "windowsize=100\n",
    "kmer_appear_times_list = [[],[]]\n",
    "i=0\n",
    "while i < len(kmer_appear_times)-windowsize:\n",
    "    kmer_appear_times_list[0].append(i)\n",
    "    times = 0\n",
    "    for j in range(0,windowsize):\n",
    "        times += kmer_appear_times[i+j]\n",
    "    kmer_appear_times_list[1].append(times)\n",
    "    i = i + windowsize"
   ]
  },
  {
   "cell_type": "code",
   "execution_count": 795,
   "metadata": {},
   "outputs": [
    {
     "ename": "ValueError",
     "evalue": "x and y must be the same size",
     "output_type": "error",
     "traceback": [
      "\u001b[0;31m---------------------------------------------------------------------------\u001b[0m",
      "\u001b[0;31mValueError\u001b[0m                                Traceback (most recent call last)",
      "\u001b[0;32m<ipython-input-795-202526f5305d>\u001b[0m in \u001b[0;36m<module>\u001b[0;34m\u001b[0m\n\u001b[1;32m      1\u001b[0m \u001b[0mplt\u001b[0m\u001b[0;34m.\u001b[0m\u001b[0mtitle\u001b[0m\u001b[0;34m(\u001b[0m\u001b[0;34m\"Number of kmers in each 100 bp window\"\u001b[0m\u001b[0;34m)\u001b[0m\u001b[0;34m\u001b[0m\u001b[0;34m\u001b[0m\u001b[0m\n\u001b[0;32m----> 2\u001b[0;31m \u001b[0mplt\u001b[0m\u001b[0;34m.\u001b[0m\u001b[0mscatter\u001b[0m\u001b[0;34m(\u001b[0m\u001b[0mkmer_appear_times_list\u001b[0m\u001b[0;34m[\u001b[0m\u001b[0;36m0\u001b[0m\u001b[0;34m]\u001b[0m\u001b[0;34m,\u001b[0m \u001b[0mkmer_appear_times_list\u001b[0m\u001b[0;34m[\u001b[0m\u001b[0;36m1\u001b[0m\u001b[0;34m]\u001b[0m\u001b[0;34m)\u001b[0m\u001b[0;34m\u001b[0m\u001b[0;34m\u001b[0m\u001b[0m\n\u001b[0m\u001b[1;32m      3\u001b[0m \u001b[0mplt\u001b[0m\u001b[0;34m.\u001b[0m\u001b[0mxlabel\u001b[0m\u001b[0;34m(\u001b[0m\u001b[0;34m\"position\"\u001b[0m\u001b[0;34m)\u001b[0m\u001b[0;34m\u001b[0m\u001b[0;34m\u001b[0m\u001b[0m\n\u001b[1;32m      4\u001b[0m \u001b[0mplt\u001b[0m\u001b[0;34m.\u001b[0m\u001b[0mylabel\u001b[0m\u001b[0;34m(\u001b[0m\u001b[0;34m\"number of appearance\"\u001b[0m\u001b[0;34m)\u001b[0m\u001b[0;34m\u001b[0m\u001b[0;34m\u001b[0m\u001b[0m\n",
      "\u001b[0;32m/usr/local/lib/python3.7/site-packages/matplotlib/pyplot.py\u001b[0m in \u001b[0;36mscatter\u001b[0;34m(x, y, s, c, marker, cmap, norm, vmin, vmax, alpha, linewidths, verts, edgecolors, data, **kwargs)\u001b[0m\n\u001b[1;32m   2862\u001b[0m         \u001b[0mvmin\u001b[0m\u001b[0;34m=\u001b[0m\u001b[0mvmin\u001b[0m\u001b[0;34m,\u001b[0m \u001b[0mvmax\u001b[0m\u001b[0;34m=\u001b[0m\u001b[0mvmax\u001b[0m\u001b[0;34m,\u001b[0m \u001b[0malpha\u001b[0m\u001b[0;34m=\u001b[0m\u001b[0malpha\u001b[0m\u001b[0;34m,\u001b[0m \u001b[0mlinewidths\u001b[0m\u001b[0;34m=\u001b[0m\u001b[0mlinewidths\u001b[0m\u001b[0;34m,\u001b[0m\u001b[0;34m\u001b[0m\u001b[0;34m\u001b[0m\u001b[0m\n\u001b[1;32m   2863\u001b[0m         verts=verts, edgecolors=edgecolors, **({\"data\": data} if data\n\u001b[0;32m-> 2864\u001b[0;31m         is not None else {}), **kwargs)\n\u001b[0m\u001b[1;32m   2865\u001b[0m     \u001b[0msci\u001b[0m\u001b[0;34m(\u001b[0m\u001b[0m__ret\u001b[0m\u001b[0;34m)\u001b[0m\u001b[0;34m\u001b[0m\u001b[0;34m\u001b[0m\u001b[0m\n\u001b[1;32m   2866\u001b[0m     \u001b[0;32mreturn\u001b[0m \u001b[0m__ret\u001b[0m\u001b[0;34m\u001b[0m\u001b[0;34m\u001b[0m\u001b[0m\n",
      "\u001b[0;32m/usr/local/lib/python3.7/site-packages/matplotlib/__init__.py\u001b[0m in \u001b[0;36minner\u001b[0;34m(ax, data, *args, **kwargs)\u001b[0m\n\u001b[1;32m   1808\u001b[0m                         \u001b[0;34m\"the Matplotlib list!)\"\u001b[0m \u001b[0;34m%\u001b[0m \u001b[0;34m(\u001b[0m\u001b[0mlabel_namer\u001b[0m\u001b[0;34m,\u001b[0m \u001b[0mfunc\u001b[0m\u001b[0;34m.\u001b[0m\u001b[0m__name__\u001b[0m\u001b[0;34m)\u001b[0m\u001b[0;34m,\u001b[0m\u001b[0;34m\u001b[0m\u001b[0;34m\u001b[0m\u001b[0m\n\u001b[1;32m   1809\u001b[0m                         RuntimeWarning, stacklevel=2)\n\u001b[0;32m-> 1810\u001b[0;31m             \u001b[0;32mreturn\u001b[0m \u001b[0mfunc\u001b[0m\u001b[0;34m(\u001b[0m\u001b[0max\u001b[0m\u001b[0;34m,\u001b[0m \u001b[0;34m*\u001b[0m\u001b[0margs\u001b[0m\u001b[0;34m,\u001b[0m \u001b[0;34m**\u001b[0m\u001b[0mkwargs\u001b[0m\u001b[0;34m)\u001b[0m\u001b[0;34m\u001b[0m\u001b[0;34m\u001b[0m\u001b[0m\n\u001b[0m\u001b[1;32m   1811\u001b[0m \u001b[0;34m\u001b[0m\u001b[0m\n\u001b[1;32m   1812\u001b[0m         inner.__doc__ = _add_data_doc(inner.__doc__,\n",
      "\u001b[0;32m/usr/local/lib/python3.7/site-packages/matplotlib/axes/_axes.py\u001b[0m in \u001b[0;36mscatter\u001b[0;34m(self, x, y, s, c, marker, cmap, norm, vmin, vmax, alpha, linewidths, verts, edgecolors, **kwargs)\u001b[0m\n\u001b[1;32m   4180\u001b[0m         \u001b[0my\u001b[0m \u001b[0;34m=\u001b[0m \u001b[0mnp\u001b[0m\u001b[0;34m.\u001b[0m\u001b[0mma\u001b[0m\u001b[0;34m.\u001b[0m\u001b[0mravel\u001b[0m\u001b[0;34m(\u001b[0m\u001b[0my\u001b[0m\u001b[0;34m)\u001b[0m\u001b[0;34m\u001b[0m\u001b[0;34m\u001b[0m\u001b[0m\n\u001b[1;32m   4181\u001b[0m         \u001b[0;32mif\u001b[0m \u001b[0mx\u001b[0m\u001b[0;34m.\u001b[0m\u001b[0msize\u001b[0m \u001b[0;34m!=\u001b[0m \u001b[0my\u001b[0m\u001b[0;34m.\u001b[0m\u001b[0msize\u001b[0m\u001b[0;34m:\u001b[0m\u001b[0;34m\u001b[0m\u001b[0;34m\u001b[0m\u001b[0m\n\u001b[0;32m-> 4182\u001b[0;31m             \u001b[0;32mraise\u001b[0m \u001b[0mValueError\u001b[0m\u001b[0;34m(\u001b[0m\u001b[0;34m\"x and y must be the same size\"\u001b[0m\u001b[0;34m)\u001b[0m\u001b[0;34m\u001b[0m\u001b[0;34m\u001b[0m\u001b[0m\n\u001b[0m\u001b[1;32m   4183\u001b[0m \u001b[0;34m\u001b[0m\u001b[0m\n\u001b[1;32m   4184\u001b[0m         \u001b[0;32mif\u001b[0m \u001b[0ms\u001b[0m \u001b[0;32mis\u001b[0m \u001b[0;32mNone\u001b[0m\u001b[0;34m:\u001b[0m\u001b[0;34m\u001b[0m\u001b[0;34m\u001b[0m\u001b[0m\n",
      "\u001b[0;31mValueError\u001b[0m: x and y must be the same size"
     ]
    },
    {
     "data": {
      "image/png": "[encoded data removed]",
      "text/plain": [
       "<Figure size 432x288 with 1 Axes>"
      ]
     },
     "metadata": {
      "needs_background": "light"
     },
     "output_type": "display_data"
    }
   ],
   "source": [
    "plt.title(\"Number of kmers in each 100 bp window\")\n",
    "plt.scatter(kmer_appear_times_list[0], kmer_appear_times_list[1])\n",
    "plt.xlabel(\"position\")\n",
    "plt.ylabel(\"number of appearance\")"
   ]
  },
  {
   "cell_type": "code",
   "execution_count": 796,
   "metadata": {
    "collapsed": true
   },
   "outputs": [],
   "source": [
    "e = list(edges_list)[:100]\n",
    "n = set()\n",
    "for i in e:\n",
    "    n.add(i[0])\n",
    "    n.add(i[1])\n",
    "sub = G.subgraph(n)"
   ]
  },
  {
   "cell_type": "code",
   "execution_count": 797,
   "metadata": {
    "collapsed": true
   },
   "outputs": [],
   "source": []
  },
  {
   "cell_type": "code",
   "execution_count": 798,
   "metadata": {
    "collapsed": true
   },
   "outputs": [],
   "source": [
    "source = [i for i in G.in_degree() if i[1]==0]\n",
    "a = DFSOBJ()\n",
    "a.DFS(0, G)"
   ]
  },
  {
   "cell_type": "code",
   "execution_count": 799,
   "metadata": {
    "collapsed": true
   },
   "outputs": [],
   "source": [
    "# new_G = nx.DiGraph()\n",
    "# for i in a.sn_adj:\n",
    "#     for j in a.sn_adj[i]:\n",
    "#         new_G.add_edge(i, j)"
   ]
  },
  {
   "cell_type": "code",
   "execution_count": 800,
   "metadata": {
    "collapsed": true
   },
   "outputs": [],
   "source": [
    "# a = DFSOBJ()\n",
    "# a.DFS(0,new_G)"
   ]
  },
  {
   "cell_type": "code",
   "execution_count": 801,
   "metadata": {},
   "outputs": [
    {
     "name": "stdout",
     "output_type": "stream",
     "text": [
      "Number of nodes: 2867\n",
      "Number of edges: 3646\n"
     ]
    }
   ],
   "source": [
    "new_G = nx.DiGraph()\n",
    "for i in a.sn_adj:\n",
    "    for j in a.sn_adj[i]:\n",
    "        new_G.add_edge(i, j)\n",
    "print(\"Number of nodes: \" + str(len(new_G.nodes)))\n",
    "print(\"Number of edges: \" + str(len(new_G.edges)))\n",
    "nx.write_gexf(new_G, \"compactHIV2SWIGG_\"+str(k_length)+\".gexf\")"
   ]
  },
  {
   "cell_type": "code",
   "execution_count": 780,
   "metadata": {},
   "outputs": [
    {
     "data": {
      "text/plain": [
       "[0]"
      ]
     },
     "execution_count": 780,
     "metadata": {},
     "output_type": "execute_result"
    }
   ],
   "source": [
    "a.supernodes[1]\n",
    "# print(a.supernodes[747])"
   ]
  },
  {
   "cell_type": "code",
   "execution_count": 455,
   "metadata": {},
   "outputs": [
    {
     "data": {
      "text/plain": [
       "2"
      ]
     },
     "execution_count": 455,
     "metadata": {},
     "output_type": "execute_result"
    }
   ],
   "source": [
    "G.in_degree(28872)\n",
    "G.out_degree(28872)"
   ]
  },
  {
   "cell_type": "code",
   "execution_count": 497,
   "metadata": {
    "collapsed": true
   },
   "outputs": [],
   "source": [
    "list_kmer_interest = set()\n",
    "list_pos_interest = []\n",
    "for i in [8,9,13,14,15,16,17,18,1221,1222,1223,1224,1225,1226,2859,2860,2858]:\n",
    "    for j in a.supernodes[i]:\n",
    "        list_kmer_interest.add(j)\n",
    "for k in list_kmer_interest:\n",
    "    for pos in kmer_pos_dict[k]:\n",
    "        list_pos_interest.append(pos)"
   ]
  },
  {
   "cell_type": "code",
   "execution_count": 531,
   "metadata": {},
   "outputs": [
    {
     "data": {
      "text/plain": [
       "{1441,\n",
       " 1509,\n",
       " 4222,\n",
       " 4346,\n",
       " 4359,\n",
       " 7448,\n",
       " 12263,\n",
       " 12458,\n",
       " 12552,\n",
       " 12595,\n",
       " 16529,\n",
       " 18395,\n",
       " 19050,\n",
       " 19177,\n",
       " 19568,\n",
       " 21862,\n",
       " 23737,\n",
       " 24411,\n",
       " 25866,\n",
       " 26650,\n",
       " 28596,\n",
       " 28777,\n",
       " 34376,\n",
       " 37196,\n",
       " 37752,\n",
       " 38020,\n",
       " 38101,\n",
       " 39148,\n",
       " 44644,\n",
       " 50948,\n",
       " 50950,\n",
       " 51228,\n",
       " 51247,\n",
       " 52528,\n",
       " 52999,\n",
       " 53779,\n",
       " 54588,\n",
       " 54589,\n",
       " 55191,\n",
       " 57308,\n",
       " 57329,\n",
       " 58051,\n",
       " 58837,\n",
       " 59119,\n",
       " 59863,\n",
       " 62453,\n",
       " 62454,\n",
       " 65841,\n",
       " 65851,\n",
       " 68693,\n",
       " 68835,\n",
       " 69658,\n",
       " 69663,\n",
       " 69665,\n",
       " 70779,\n",
       " 72552,\n",
       " 76033,\n",
       " 76417,\n",
       " 78267,\n",
       " 80838,\n",
       " 82734,\n",
       " 82736,\n",
       " 83171,\n",
       " 83475,\n",
       " 83720,\n",
       " 83721,\n",
       " 83880,\n",
       " 84262,\n",
       " 86600,\n",
       " 87905,\n",
       " 87906,\n",
       " 101384,\n",
       " 106548,\n",
       " 106554,\n",
       " 108636,\n",
       " 109734,\n",
       " 110227,\n",
       " 110400,\n",
       " 112716,\n",
       " 118863,\n",
       " 121218,\n",
       " 121219,\n",
       " 121221,\n",
       " 124565,\n",
       " 124566,\n",
       " 124696,\n",
       " 124753,\n",
       " 124870,\n",
       " 130596,\n",
       " 130600,\n",
       " 134661,\n",
       " 135435,\n",
       " 135436,\n",
       " 135437,\n",
       " 136319,\n",
       " 136341,\n",
       " 137899,\n",
       " 137902,\n",
       " 139017,\n",
       " 139283,\n",
       " 139284,\n",
       " 139285,\n",
       " 139943,\n",
       " 139945,\n",
       " 140278,\n",
       " 140351,\n",
       " 140352,\n",
       " 140353,\n",
       " 140639,\n",
       " 140653,\n",
       " 140654,\n",
       " 140655,\n",
       " 140716,\n",
       " 140717,\n",
       " 140735,\n",
       " 140738,\n",
       " 140748,\n",
       " 140752,\n",
       " 140784,\n",
       " 140788,\n",
       " 140958,\n",
       " 140962,\n",
       " 141572,\n",
       " 141605,\n",
       " 144201,\n",
       " 144322,\n",
       " 144439,\n",
       " 145088,\n",
       " 146460,\n",
       " 148190,\n",
       " 148191,\n",
       " 149760,\n",
       " 150543,\n",
       " 152139,\n",
       " 152163,\n",
       " 155340,\n",
       " 155387,\n",
       " 156481,\n",
       " 157019,\n",
       " 157443,\n",
       " 159736,\n",
       " 160643,\n",
       " 162671,\n",
       " 166209,\n",
       " 167697,\n",
       " 169353,\n",
       " 169610,\n",
       " 169611,\n",
       " 176486,\n",
       " 176487,\n",
       " 179417,\n",
       " 179429,\n",
       " 180613,\n",
       " 180643,\n",
       " 180646,\n",
       " 183682,\n",
       " 184086,\n",
       " 184093,\n",
       " 187636,\n",
       " 188063,\n",
       " 190666,\n",
       " 190671,\n",
       " 190674,\n",
       " 191635,\n",
       " 191639,\n",
       " 193756}"
      ]
     },
     "execution_count": 531,
     "metadata": {},
     "output_type": "execute_result"
    }
   ],
   "source": [
    "list_kmer_kmer_interest = []\n",
    "for i in list_kmer_interest:\n",
    "    list_kmer_interest[]"
   ]
  },
  {
   "cell_type": "code",
   "execution_count": 529,
   "metadata": {},
   "outputs": [
    {
     "data": {
      "image/png": "[encoded data removed]",
      "text/plain": [
       "<Figure size 360x360 with 2 Axes>"
      ]
     },
     "metadata": {},
     "output_type": "display_data"
    }
   ],
   "source": [
    "# x = np.linspace(4000,100,9000)\n",
    "# x[:] = np.linspace(8000,100,9000)\n",
    "\n",
    "# y = np.sin(x)\n",
    "\n",
    "f,(ax,ax2) = plt.subplots(1,2,sharey=True, facecolor='w')\n",
    "\n",
    "# plot the same data on both axes\n",
    "ax.hist(list_pos_interest, bins=200)\n",
    "ax2.hist(list_pos_interest, bins=200)\n",
    "\n",
    "ax.set_xlim(4200,4600)\n",
    "ax2.set_xlim(8400,8800)\n",
    "\n",
    "# hide the spines between ax and ax2\n",
    "ax.spines['right'].set_visible(False)\n",
    "ax2.spines['left'].set_visible(False)\n",
    "ax.yaxis.tick_left()\n",
    "ax.tick_params(labelright='off')\n",
    "ax2.yaxis.tick_right()\n",
    "\n",
    "# This looks pretty good, and was fairly painless, but you can get that\n",
    "# cut-out diagonal lines look with just a bit more work. The important\n",
    "# thing to know here is that in axes coordinates, which are always\n",
    "# between 0-1, spine endpoints are at these locations (0,0), (0,1),\n",
    "# (1,0), and (1,1).  Thus, we just need to put the diagonals in the\n",
    "# appropriate corners of each of our axes, and so long as we use the\n",
    "# right transform and disable clipping.\n",
    "\n",
    "d = .015 # how big to make the diagonal lines in axes coordinates\n",
    "# arguments to pass plot, just so we don't keep repeating them\n",
    "kwargs = dict(transform=ax.transAxes, color='k', clip_on=False)\n",
    "ax.plot((1-d,1+d), (-d,+d), **kwargs)\n",
    "ax.plot((1-d,1+d),(1-d,1+d), **kwargs)\n",
    "\n",
    "kwargs.update(transform=ax2.transAxes)  # switch to the bottom axes\n",
    "ax2.plot((-d,+d), (1-d,1+d), **kwargs)\n",
    "ax2.plot((-d,+d), (-d,+d), **kwargs)\n",
    "\n",
    "# What's cool about this is that now if we vary the distance between\n",
    "# ax and ax2 via f.subplots_adjust(hspace=...) or plt.subplot_tool(),\n",
    "# the diagonal lines will move accordingly, and stay right at the tips\n",
    "# of the spines they are 'breaking'\n",
    "\n",
    "ax.set_ylabel(\"Number of hits\")\n",
    "ax.set_xlabel(\"Position (bp)\")\n",
    "f.set_size_inches(5,5)\n",
    "plt.show()"
   ]
  },
  {
   "cell_type": "code",
   "execution_count": 505,
   "metadata": {},
   "outputs": [
    {
     "data": {
      "text/plain": [
       "(array([ 9., 12., 35., 36., 25., 33., 47., 48., 45., 38.,  9.,  0.,  0.,\n",
       "         0.,  0.,  0.,  0.,  0.,  0.,  0.,  0.,  0.,  0.,  0.,  0.,  0.,\n",
       "         0.,  0.,  0.,  0.,  0.,  0.,  0.,  0.,  0.,  0.,  0.,  0.,  0.,\n",
       "         0.,  0.,  0.,  0.,  0.,  0.,  0.,  0.,  0.,  0.,  0.,  0.,  0.,\n",
       "         0.,  0.,  0.,  0.,  0.,  0.,  0.,  0.,  0.,  0.,  0.,  0.,  0.,\n",
       "         0.,  0.,  0.,  0.,  0.,  0.,  0.,  0.,  0.,  0.,  0.,  0.,  0.,\n",
       "         0.,  0.,  0.,  0.,  0.,  0.,  0.,  0.,  0.,  0.,  0.,  0.,  0.,\n",
       "         0.,  0.,  0.,  0.,  0.,  0.,  0.,  0.,  0.,  0.,  0.,  0.,  0.,\n",
       "         0.,  0.,  0.,  0.,  0.,  0.,  0.,  0.,  0.,  0.,  0.,  0.,  0.,\n",
       "         0.,  0.,  0.,  0.,  0.,  0.,  0.,  0.,  0.,  0.,  0.,  0.,  0.,\n",
       "         0.,  0.,  0.,  0.,  0.,  0.,  0.,  0.,  0.,  0.,  0.,  0.,  0.,\n",
       "         0.,  0.,  0.,  0.,  0.,  0.,  0.,  0.,  0.,  0.,  0.,  0.,  0.,\n",
       "         0.,  0.,  0.,  0.,  0.,  0.,  0.,  0.,  0.,  0.,  0.,  0.,  0.,\n",
       "         0.,  0.,  0.,  0.,  0.,  0.,  0.,  0.,  0.,  0.,  0.,  0.,  0.,\n",
       "         0.,  0.,  0.,  0.,  0.,  0.,  0.,  0.,  0.,  0.,  0.,  0.,  0.,\n",
       "         0.,  0.,  0.,  0.,  0.,  0.,  0.,  0.,  0.,  0.,  0.,  0.,  0.,\n",
       "         0.,  0.,  0.,  0.,  0.,  0.,  0.,  0.,  0.,  0.,  0.,  0.,  0.,\n",
       "         0.,  0.,  0.,  0.,  0.,  0.,  0.,  0.,  0.,  0.,  0.,  0.,  0.,\n",
       "         0.,  0.,  0.,  0.,  0.,  0.,  0.,  0.,  0.,  0.,  0.,  0.,  0.,\n",
       "         0.,  0.,  0.,  0.,  0.,  0.,  0.,  0.,  0.,  0.,  0.,  0.,  0.,\n",
       "         0.,  0.,  0.,  0.,  0.,  0.,  0.,  0.,  0.,  0.,  0.,  0.,  0.,\n",
       "         0.,  0.,  0.,  0.,  0.,  0.,  0.,  0.,  0.,  0.,  0.,  0.,  0.,\n",
       "         0.,  0.,  0.,  0.,  0.,  0.,  0.,  0.,  0.,  0.,  0.,  0.,  0.,\n",
       "         0.,  0.,  0.,  0.,  0.,  0.,  0.,  0.,  0.,  0.,  0.,  0.,  0.,\n",
       "         0.,  0.,  0.,  0.,  0.,  0.,  0.,  0.,  0.,  0.,  0.,  0.,  0.,\n",
       "         0.,  0.,  0.,  0.,  0.,  0.,  0.,  0.,  0.,  0.,  0.,  0.,  0.,\n",
       "         0.,  0.,  0.,  0.,  0.,  0.,  0.,  0.,  0.,  0.,  0.,  0.,  0.,\n",
       "         0.,  0.,  0.,  0.,  0.,  0.,  0.,  0.,  0.,  0.,  0.,  0.,  0.,\n",
       "         0.,  0.,  0.,  0.,  0.,  0.,  0.,  0.,  0.,  0.,  0.,  0.,  0.,\n",
       "         0.,  0.,  0.,  0.,  0.,  0.,  0.,  0.,  0.,  0.,  0.,  0.,  0.,\n",
       "         0.,  0.,  0.,  0.,  0.,  0.,  0.,  0.,  0.,  0.,  0.,  0.,  0.,\n",
       "         0.,  0.,  0.,  0.,  0.,  0.,  0.,  0.,  0.,  0.,  0.,  0.,  0.,\n",
       "         0.,  0.,  0.,  0.,  0.,  0.,  0.,  0.,  0.,  0.,  0.,  0.,  0.,\n",
       "         0.,  0.,  0.,  0.,  0.,  0.,  0.,  0.,  0.,  0.,  0.,  0.,  0.,\n",
       "         0.,  0.,  0.,  0.,  0.,  0.,  0.,  0.,  0.,  0.,  0.,  0.,  0.,\n",
       "         0.,  0.,  0.,  0.,  0.,  0.,  0.,  0.,  0.,  0.,  0.,  0.,  0.,\n",
       "         0.,  0.,  0.,  0.,  0.,  0.,  0.,  0.,  0.,  0.,  0.,  0.,  0.,\n",
       "         0.,  0.,  0.,  0.,  0.,  1.,  9.,  3.,  3.,  0.,  0.,  0.,  0.,\n",
       "         4.,  0.,  0.,  0.,  0.,  4.]),\n",
       " array([4288.   , 4296.842, 4305.684, 4314.526, 4323.368, 4332.21 ,\n",
       "        4341.052, 4349.894, 4358.736, 4367.578, 4376.42 , 4385.262,\n",
       "        4394.104, 4402.946, 4411.788, 4420.63 , 4429.472, 4438.314,\n",
       "        4447.156, 4455.998, 4464.84 , 4473.682, 4482.524, 4491.366,\n",
       "        4500.208, 4509.05 , 4517.892, 4526.734, 4535.576, 4544.418,\n",
       "        4553.26 , 4562.102, 4570.944, 4579.786, 4588.628, 4597.47 ,\n",
       "        4606.312, 4615.154, 4623.996, 4632.838, 4641.68 , 4650.522,\n",
       "        4659.364, 4668.206, 4677.048, 4685.89 , 4694.732, 4703.574,\n",
       "        4712.416, 4721.258, 4730.1  , 4738.942, 4747.784, 4756.626,\n",
       "        4765.468, 4774.31 , 4783.152, 4791.994, 4800.836, 4809.678,\n",
       "        4818.52 , 4827.362, 4836.204, 4845.046, 4853.888, 4862.73 ,\n",
       "        4871.572, 4880.414, 4889.256, 4898.098, 4906.94 , 4915.782,\n",
       "        4924.624, 4933.466, 4942.308, 4951.15 , 4959.992, 4968.834,\n",
       "        4977.676, 4986.518, 4995.36 , 5004.202, 5013.044, 5021.886,\n",
       "        5030.728, 5039.57 , 5048.412, 5057.254, 5066.096, 5074.938,\n",
       "        5083.78 , 5092.622, 5101.464, 5110.306, 5119.148, 5127.99 ,\n",
       "        5136.832, 5145.674, 5154.516, 5163.358, 5172.2  , 5181.042,\n",
       "        5189.884, 5198.726, 5207.568, 5216.41 , 5225.252, 5234.094,\n",
       "        5242.936, 5251.778, 5260.62 , 5269.462, 5278.304, 5287.146,\n",
       "        5295.988, 5304.83 , 5313.672, 5322.514, 5331.356, 5340.198,\n",
       "        5349.04 , 5357.882, 5366.724, 5375.566, 5384.408, 5393.25 ,\n",
       "        5402.092, 5410.934, 5419.776, 5428.618, 5437.46 , 5446.302,\n",
       "        5455.144, 5463.986, 5472.828, 5481.67 , 5490.512, 5499.354,\n",
       "        5508.196, 5517.038, 5525.88 , 5534.722, 5543.564, 5552.406,\n",
       "        5561.248, 5570.09 , 5578.932, 5587.774, 5596.616, 5605.458,\n",
       "        5614.3  , 5623.142, 5631.984, 5640.826, 5649.668, 5658.51 ,\n",
       "        5667.352, 5676.194, 5685.036, 5693.878, 5702.72 , 5711.562,\n",
       "        5720.404, 5729.246, 5738.088, 5746.93 , 5755.772, 5764.614,\n",
       "        5773.456, 5782.298, 5791.14 , 5799.982, 5808.824, 5817.666,\n",
       "        5826.508, 5835.35 , 5844.192, 5853.034, 5861.876, 5870.718,\n",
       "        5879.56 , 5888.402, 5897.244, 5906.086, 5914.928, 5923.77 ,\n",
       "        5932.612, 5941.454, 5950.296, 5959.138, 5967.98 , 5976.822,\n",
       "        5985.664, 5994.506, 6003.348, 6012.19 , 6021.032, 6029.874,\n",
       "        6038.716, 6047.558, 6056.4  , 6065.242, 6074.084, 6082.926,\n",
       "        6091.768, 6100.61 , 6109.452, 6118.294, 6127.136, 6135.978,\n",
       "        6144.82 , 6153.662, 6162.504, 6171.346, 6180.188, 6189.03 ,\n",
       "        6197.872, 6206.714, 6215.556, 6224.398, 6233.24 , 6242.082,\n",
       "        6250.924, 6259.766, 6268.608, 6277.45 , 6286.292, 6295.134,\n",
       "        6303.976, 6312.818, 6321.66 , 6330.502, 6339.344, 6348.186,\n",
       "        6357.028, 6365.87 , 6374.712, 6383.554, 6392.396, 6401.238,\n",
       "        6410.08 , 6418.922, 6427.764, 6436.606, 6445.448, 6454.29 ,\n",
       "        6463.132, 6471.974, 6480.816, 6489.658, 6498.5  , 6507.342,\n",
       "        6516.184, 6525.026, 6533.868, 6542.71 , 6551.552, 6560.394,\n",
       "        6569.236, 6578.078, 6586.92 , 6595.762, 6604.604, 6613.446,\n",
       "        6622.288, 6631.13 , 6639.972, 6648.814, 6657.656, 6666.498,\n",
       "        6675.34 , 6684.182, 6693.024, 6701.866, 6710.708, 6719.55 ,\n",
       "        6728.392, 6737.234, 6746.076, 6754.918, 6763.76 , 6772.602,\n",
       "        6781.444, 6790.286, 6799.128, 6807.97 , 6816.812, 6825.654,\n",
       "        6834.496, 6843.338, 6852.18 , 6861.022, 6869.864, 6878.706,\n",
       "        6887.548, 6896.39 , 6905.232, 6914.074, 6922.916, 6931.758,\n",
       "        6940.6  , 6949.442, 6958.284, 6967.126, 6975.968, 6984.81 ,\n",
       "        6993.652, 7002.494, 7011.336, 7020.178, 7029.02 , 7037.862,\n",
       "        7046.704, 7055.546, 7064.388, 7073.23 , 7082.072, 7090.914,\n",
       "        7099.756, 7108.598, 7117.44 , 7126.282, 7135.124, 7143.966,\n",
       "        7152.808, 7161.65 , 7170.492, 7179.334, 7188.176, 7197.018,\n",
       "        7205.86 , 7214.702, 7223.544, 7232.386, 7241.228, 7250.07 ,\n",
       "        7258.912, 7267.754, 7276.596, 7285.438, 7294.28 , 7303.122,\n",
       "        7311.964, 7320.806, 7329.648, 7338.49 , 7347.332, 7356.174,\n",
       "        7365.016, 7373.858, 7382.7  , 7391.542, 7400.384, 7409.226,\n",
       "        7418.068, 7426.91 , 7435.752, 7444.594, 7453.436, 7462.278,\n",
       "        7471.12 , 7479.962, 7488.804, 7497.646, 7506.488, 7515.33 ,\n",
       "        7524.172, 7533.014, 7541.856, 7550.698, 7559.54 , 7568.382,\n",
       "        7577.224, 7586.066, 7594.908, 7603.75 , 7612.592, 7621.434,\n",
       "        7630.276, 7639.118, 7647.96 , 7656.802, 7665.644, 7674.486,\n",
       "        7683.328, 7692.17 , 7701.012, 7709.854, 7718.696, 7727.538,\n",
       "        7736.38 , 7745.222, 7754.064, 7762.906, 7771.748, 7780.59 ,\n",
       "        7789.432, 7798.274, 7807.116, 7815.958, 7824.8  , 7833.642,\n",
       "        7842.484, 7851.326, 7860.168, 7869.01 , 7877.852, 7886.694,\n",
       "        7895.536, 7904.378, 7913.22 , 7922.062, 7930.904, 7939.746,\n",
       "        7948.588, 7957.43 , 7966.272, 7975.114, 7983.956, 7992.798,\n",
       "        8001.64 , 8010.482, 8019.324, 8028.166, 8037.008, 8045.85 ,\n",
       "        8054.692, 8063.534, 8072.376, 8081.218, 8090.06 , 8098.902,\n",
       "        8107.744, 8116.586, 8125.428, 8134.27 , 8143.112, 8151.954,\n",
       "        8160.796, 8169.638, 8178.48 , 8187.322, 8196.164, 8205.006,\n",
       "        8213.848, 8222.69 , 8231.532, 8240.374, 8249.216, 8258.058,\n",
       "        8266.9  , 8275.742, 8284.584, 8293.426, 8302.268, 8311.11 ,\n",
       "        8319.952, 8328.794, 8337.636, 8346.478, 8355.32 , 8364.162,\n",
       "        8373.004, 8381.846, 8390.688, 8399.53 , 8408.372, 8417.214,\n",
       "        8426.056, 8434.898, 8443.74 , 8452.582, 8461.424, 8470.266,\n",
       "        8479.108, 8487.95 , 8496.792, 8505.634, 8514.476, 8523.318,\n",
       "        8532.16 , 8541.002, 8549.844, 8558.686, 8567.528, 8576.37 ,\n",
       "        8585.212, 8594.054, 8602.896, 8611.738, 8620.58 , 8629.422,\n",
       "        8638.264, 8647.106, 8655.948, 8664.79 , 8673.632, 8682.474,\n",
       "        8691.316, 8700.158, 8709.   ]),\n",
       " <a list of 500 Patch objects>)"
      ]
     },
     "execution_count": 505,
     "metadata": {},
     "output_type": "execute_result"
    },
    {
     "data": {
      "image/png": "[encoded data removed]",
      "text/plain": [
       "<Figure size 432x288 with 1 Axes>"
      ]
     },
     "metadata": {
      "needs_background": "light"
     },
     "output_type": "display_data"
    }
   ],
   "source": []
  },
  {
   "cell_type": "markdown",
   "metadata": {},
   "source": [
    "#### Testing for contraction"
   ]
  },
  {
   "cell_type": "code",
   "execution_count": 423,
   "metadata": {
    "collapsed": true
   },
   "outputs": [],
   "source": [
    "new_G = nx.DiGraph()\n",
    "for i in range(10):\n",
    "    new_G.add_edge(i,i+1)\n",
    "# new_G.add_edge(0,1)\n",
    "# new_G.add_edge(1,2)\n",
    "# new_G.add_edge(2,3)\n",
    "# new_G.add_edge(3,4)\n",
    "# new_G.add_edge(1,5)\n",
    "# new_G.add_edge(5,6)\n",
    "# new_G.add_edge(6,7)"
   ]
  },
  {
   "cell_type": "code",
   "execution_count": 283,
   "metadata": {},
   "outputs": [
    {
     "data": {
      "text/plain": [
       "defaultdict(list, {1: [3]})"
      ]
     },
     "execution_count": 283,
     "metadata": {},
     "output_type": "execute_result"
    }
   ],
   "source": [
    "sn_adj"
   ]
  }
 ],
 "metadata": {
  "kernelspec": {
   "display_name": "Python 3",
   "language": "python",
   "name": "python3"
  },
  "language_info": {
   "codemirror_mode": {
    "name": "ipython",
    "version": 3
   },
   "file_extension": ".py",
   "mimetype": "text/x-python",
   "name": "python",
   "nbconvert_exporter": "python",
   "pygments_lexer": "ipython3",
   "version": "3.7.2"
  }
 },
 "nbformat": 4,
 "nbformat_minor": 2
}
