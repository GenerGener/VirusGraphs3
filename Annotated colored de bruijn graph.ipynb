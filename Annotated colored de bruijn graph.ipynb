{
 "cells": [
  {
   "cell_type": "code",
   "execution_count": 27,
   "metadata": {},
   "outputs": [],
   "source": [
    "from collections import defaultdict\n",
    "import argparse\n",
    "\n",
    "import numpy as np\n",
    "import pandas as pd\n",
    "\n",
    "from collections import Counter\n",
    "from Bio import SeqIO\n",
    "import networkx as nx\n",
    "\n",
    "import matplotlib.pyplot as plt"
   ]
  },
  {
   "cell_type": "code",
   "execution_count": 32,
   "metadata": {
    "collapsed": true
   },
   "outputs": [],
   "source": [
    "seq_list = []\n",
    "k_length = 20\n",
    "\n",
    "fasta = [\"HIV1.fasta\"]\n",
    "\n",
    "for seqq in fasta:\n",
    "    seq_list = seq_list + [(str(a.id),str(a.seq)) for a in list(SeqIO.parse(seqq, \"fasta\"))]\n",
    "    \n",
    "seq_df = pd.DataFrame(seq_list)\n",
    "#seq_df = pd.DataFrame(seq_list).head()\n",
    "seq_df.columns = [\"name\",\"Sequence\"]"
   ]
  },
  {
   "cell_type": "code",
   "execution_count": 33,
   "metadata": {
    "collapsed": true
   },
   "outputs": [],
   "source": [
    "name_dict = list(enumerate(seq_df[\"name\"]))"
   ]
  },
  {
   "cell_type": "code",
   "execution_count": 34,
   "metadata": {
    "collapsed": true
   },
   "outputs": [],
   "source": [
    "kmer_pos_dict = defaultdict(list)\n",
    "kmer_name_dict = defaultdict(list)\n",
    "kmer_pos_dict = defaultdict(list)\n",
    "kmer_dict = set()\n",
    "for i in range(len(seq_df)):\n",
    "    name = i\n",
    "    seq = seq_df.loc[i,\"Sequence\"]\n",
    "    for j in range(len(seq)-k_length+1):\n",
    "        kmer_dict.add(seq[j:j+k_length])\n",
    "#     print(i,seq[j:j+k_length])\n",
    "kmer_list = dict(zip(sorted(list(kmer_dict)), list(range(0,len(kmer_dict)))))\n",
    "\n",
    "edges = defaultdict(list)\n",
    "for i in range(len(seq_df)):\n",
    "    name = i\n",
    "    seq = seq_df.loc[i,\"Sequence\"]\n",
    "    for j in range(len(seq)-k_length*2):\n",
    "        edges[kmer_list[seq[j:j+k_length]]].append(kmer_list[seq[j+1:j+k_length+1]])\n",
    "        kmer_name_dict[kmer_list[seq[j:j+k_length]]].append(name)\n",
    "        kmer_pos_dict[kmer_list[seq[j:j+k_length]]].append(j)\n",
    "#     print(name)\n",
    "    kmer_name_dict[kmer_list[seq[len(seq)-k_length:]]].append(name)\n",
    "    kmer_pos_dict[kmer_list[seq[len(seq)-k_length:]]].append(j)"
   ]
  },
  {
   "cell_type": "code",
   "execution_count": 35,
   "metadata": {},
   "outputs": [
    {
     "name": "stdout",
     "output_type": "stream",
     "text": [
      "Number of nodes:  194595\n",
      "Number of edges:  348524\n"
     ]
    }
   ],
   "source": [
    "G = nx.DiGraph()\n",
    "\n",
    "print(\"Number of nodes: \",len(kmer_list))\n",
    "num = 0\n",
    "for j in edges:\n",
    "    for i in edges[j]:\n",
    "        G.add_edge(j,i)\n",
    "        num+=1\n",
    "print(\"Number of edges: \",num)"
   ]
  },
  {
   "cell_type": "code",
   "execution_count": 36,
   "metadata": {},
   "outputs": [],
   "source": [
    "kmer_appear_times = defaultdict()\n",
    "for i in kmer_pos_dict:\n",
    "    times = len(kmer_pos_dict[i])\n",
    "    for j in kmer_pos_dict[i]:\n",
    "        kmer_appear_times[j] = times"
   ]
  },
  {
   "cell_type": "code",
   "execution_count": 48,
   "metadata": {},
   "outputs": [],
   "source": [
    "windowsize=100\n",
    "kmer_appear_times_list = [[],[]]\n",
    "i=0\n",
    "while i < len(kmer_appear_times)-windowsize:\n",
    "    kmer_appear_times_list[0].append(i)\n",
    "    times = 0\n",
    "    for j in range(0,windowsize):\n",
    "        times += kmer_appear_times[i+j]\n",
    "    kmer_appear_times_list[1].append(times)\n",
    "    i = i + windowsize"
   ]
  },
  {
   "cell_type": "code",
   "execution_count": 54,
   "metadata": {},
   "outputs": [
    {
     "data": {
      "text/plain": [
       "Text(0, 0.5, 'number of appearance')"
      ]
     },
     "execution_count": 54,
     "metadata": {},
     "output_type": "execute_result"
    },
    {
     "data": {
      "image/png": "[encoded data removed]",
      "text/plain": [
       "<Figure size 432x288 with 1 Axes>"
      ]
     },
     "metadata": {
      "needs_background": "light"
     },
     "output_type": "display_data"
    }
   ],
   "source": [
    "plt.title(\"Number of kmers in each 100 bp window\")\n",
    "plt.scatter(kmer_appear_times_list[0], kmer_appear_times_list[1])\n",
    "plt.xlabel(\"position\")\n",
    "plt.ylabel(\"number of appearance\")"
   ]
  },
  {
   "cell_type": "code",
   "execution_count": null,
   "metadata": {
    "collapsed": true
   },
   "outputs": [],
   "source": []
  }
 ],
 "metadata": {
  "kernelspec": {
   "display_name": "Python 3",
   "language": "python",
   "name": "python3"
  },
  "language_info": {
   "codemirror_mode": {
    "name": "ipython",
    "version": 3
   },
   "file_extension": ".py",
   "mimetype": "text/x-python",
   "name": "python",
   "nbconvert_exporter": "python",
   "pygments_lexer": "ipython3",
   "version": "3.7.2"
  }
 },
 "nbformat": 4,
 "nbformat_minor": 2
}
