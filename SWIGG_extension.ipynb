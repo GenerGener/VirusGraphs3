{
 "cells": [
  {
   "cell_type": "code",
   "execution_count": 3,
   "metadata": {},
   "outputs": [],
   "source": [
    "from collections import defaultdict\n",
    "import argparse\n",
    "\n",
    "import numpy as np\n",
    "import pandas as pd\n",
    "\n",
    "from collections import Counter\n",
    "from Bio import SeqIO\n",
    "import networkx as nx\n",
    "\n",
    "import matplotlib.pyplot as plt\n",
    "\n",
    "import sys\n",
    "import os\n",
    "sys.setrecursionlimit(500524)"
   ]
  },
  {
   "cell_type": "markdown",
   "metadata": {},
   "source": [
    "### Functions to contract nodes"
   ]
  },
  {
   "cell_type": "code",
   "execution_count": 5,
   "metadata": {
    "collapsed": true
   },
   "outputs": [],
   "source": []
  },
  {
   "cell_type": "markdown",
   "metadata": {},
   "source": [
    "### Main Loop\n",
    "If there are 1000 sequences in the fasta file, the script will randomly choose 100 sequences and repeat the process for 10 times.\n",
    "\n",
    "If there are fewer than 1000 sequences, comment out the outer loop."
   ]
  },
  {
   "cell_type": "code",
   "execution_count": 25,
   "metadata": {},
   "outputs": [
    {
     "name": "stdout",
     "output_type": "stream",
     "text": [
      "====== Seqn = 0\n",
      "=========== K-mer lengths = 500\n",
      "Number of nodes:  802975\n",
      "Number of edges:  848167\n",
      "Contracting nodes...\n",
      "Number of nodes: 347\n",
      "Number of edges: 410\n",
      "====== Seqn = 100\n",
      "=========== K-mer lengths = 500\n",
      "Number of nodes:  820466\n",
      "Number of edges:  849297\n",
      "Contracting nodes...\n",
      "Number of nodes: 181\n",
      "Number of edges: 201\n",
      "====== Seqn = 200\n",
      "=========== K-mer lengths = 500\n",
      "Number of nodes:  820198\n",
      "Number of edges:  848594\n",
      "Contracting nodes...\n",
      "Number of nodes: 248\n",
      "Number of edges: 285\n",
      "====== Seqn = 300\n",
      "=========== K-mer lengths = 500\n",
      "Number of nodes:  823203\n",
      "Number of edges:  850823\n",
      "Contracting nodes...\n",
      "Number of nodes: 212\n",
      "Number of edges: 241\n",
      "====== Seqn = 400\n",
      "=========== K-mer lengths = 500\n",
      "Number of nodes:  801298\n",
      "Number of edges:  849158\n",
      "Contracting nodes...\n",
      "Number of nodes: 356\n",
      "Number of edges: 421\n",
      "====== Seqn = 500\n",
      "=========== K-mer lengths = 500\n",
      "Number of nodes:  818101\n",
      "Number of edges:  849358\n",
      "Contracting nodes...\n",
      "Number of nodes: 212\n",
      "Number of edges: 238\n",
      "====== Seqn = 600\n",
      "=========== K-mer lengths = 500\n",
      "Number of nodes:  780449\n",
      "Number of edges:  849517\n",
      "Contracting nodes...\n",
      "Number of nodes: 320\n",
      "Number of edges: 374\n",
      "====== Seqn = 700\n",
      "=========== K-mer lengths = 500\n",
      "Number of nodes:  809849\n",
      "Number of edges:  849272\n",
      "Contracting nodes...\n",
      "Number of nodes: 220\n",
      "Number of edges: 250\n",
      "====== Seqn = 800\n",
      "=========== K-mer lengths = 500\n",
      "Number of nodes:  825873\n",
      "Number of edges:  848503\n",
      "Contracting nodes...\n",
      "Number of nodes: 220\n",
      "Number of edges: 249\n",
      "====== Seqn = 900\n",
      "=========== K-mer lengths = 500\n",
      "Number of nodes:  739906\n",
      "Number of edges:  807943\n",
      "Contracting nodes...\n",
      "Number of nodes: 265\n",
      "Number of edges: 310\n"
     ]
    }
   ],
   "source": [
    "seq_list = []\n",
    "k_lengths = [500]\n",
    "fasta = [\"../HIV3.fasta\"]\n",
    "outdir = \"../HIV3_500mer_100_random/\"\n",
    "\n",
    "outputname = os.path.basename(fasta[0]).split(\".\")[0]\n",
    "\n",
    "for seqq in fasta:\n",
    "    seq_list = seq_list + [(str(a.id),str(a.seq)) for a in list(SeqIO.parse(seqq, \"fasta\"))]\n",
    "\n",
    "# random experiments\n",
    "np.random.shuffle(seq_list)\n",
    "    \n",
    "for seqn in range(0,1000,100):\n",
    "    print(\"====== Seqn = \"+ str(seqn))\n",
    "    seq_df = pd.DataFrame(seq_list[seqn:seqn+100])\n",
    "    #seq_df = pd.DataFrame(seq_list).head()\n",
    "    seq_df.columns = [\"name\",\"Sequence\"]\n",
    "\n",
    "    name_dict = list(enumerate(seq_df[\"name\"]))\n",
    "\n",
    "    for k_length in k_lengths:\n",
    "        print(\" K-mer lengths = \"+str(k_length))\n",
    "        kmer_pos_dict = defaultdict(list)\n",
    "        kmer_name_dict = defaultdict(list)\n",
    "        kmer_pos_dict = defaultdict(list)\n",
    "        kmer_dict = set()\n",
    "        for i in range(len(seq_df)):\n",
    "            name = i\n",
    "#             print(name)\n",
    "            seq = seq_df.loc[i,\"Sequence\"]\n",
    "            for j in range(len(seq)-k_length+1):\n",
    "                kmer_dict.add(seq[j:j+k_length])\n",
    "        #     print(i,seq[j:j+k_length])\n",
    "        kmer_id_list = dict(zip(sorted(list(kmer_dict)), list(range(1,len(kmer_dict)+1))))\n",
    "        id_kmer_list = dict(zip(list(range(1,len(kmer_dict)+1)),sorted(list(kmer_dict))))\n",
    "\n",
    "        edges = defaultdict(list)\n",
    "        for i in range(len(seq_df)):\n",
    "            name = i\n",
    "            seq = seq_df.loc[i,\"Sequence\"]\n",
    "            edges[0].append(kmer_id_list[seq[:k_length]])\n",
    "            for j in range(len(seq)-k_length-1):\n",
    "                edges[kmer_id_list[seq[j:j+k_length]]].append(kmer_id_list[seq[j+1:j+k_length+1]])\n",
    "                kmer_name_dict[kmer_id_list[seq[j:j+k_length]]].append(name)\n",
    "                kmer_pos_dict[kmer_id_list[seq[j:j+k_length]]].append(j)\n",
    "            kmer_name_dict[kmer_id_list[seq[len(seq)-k_length:]]].append(name)\n",
    "            kmer_pos_dict[kmer_id_list[seq[len(seq)-k_length:]]].append(j)\n",
    "\n",
    "        G = nx.DiGraph()\n",
    "\n",
    "        print(\"Number of nodes: \",len(kmer_id_list))\n",
    "        num = 0\n",
    "        edges_list = []\n",
    "        for j in edges:\n",
    "            for i in edges[j]:\n",
    "                G.add_edge(j,i)\n",
    "                edges_list.append((j,i))\n",
    "                num+=1\n",
    "        print(\"Number of edges: \",num)\n",
    "        \n",
    "        print(\"Contracting nodes...\")\n",
    "        source = [i for i in G.in_degree() if i[1]==0]\n",
    "        a = DFSOBJ()\n",
    "        a.DFS(0, G)\n",
    "\n",
    "        new_G = nx.DiGraph()\n",
    "        for i in a.sn_adj:\n",
    "            for j in a.sn_adj[i]:\n",
    "                new_G.add_edge(i, j)\n",
    "        print(\"Number of nodes: \" + str(len(new_G.nodes)))\n",
    "        print(\"Number of edges: \" + str(len(new_G.edges)))\n",
    "        nx.write_gexf(new_G, outdir+\"compactSWIGG_\"+outputname+\"_\"+str(k_length)+\"_\"+str(seqn)+\".gexf\")"
   ]
  },
  {
   "cell_type": "code",
   "execution_count": 14,
   "metadata": {
    "collapsed": true
   },
   "outputs": [],
   "source": [
    "kmer_appear_times = defaultdict()\n",
    "pos_appear_times = defaultdict()\n",
    "for i in kmer_pos_dict:\n",
    "    times = len(kmer_pos_dict[i])\n",
    "    kmer_appear_times[i] = times\n",
    "    for j in kmer_pos_dict[i]:\n",
    "        pos_appear_times[j] = times"
   ]
  },
  {
   "cell_type": "code",
   "execution_count": 793,
   "metadata": {
    "collapsed": true
   },
   "outputs": [],
   "source": [
    "sorted_kmer_appear_times=sorted(kmer_appear_times.keys(), key= lambda x: kmer_appear_times[x])"
   ]
  },
  {
   "cell_type": "code",
   "execution_count": 794,
   "metadata": {
    "scrolled": true
   },
   "outputs": [
    {
     "ename": "KeyError",
     "evalue": "0",
     "output_type": "error",
     "traceback": [
      "\u001b[0;31m---------------------------------------------------------------------------\u001b[0m",
      "\u001b[0;31mKeyError\u001b[0m                                  Traceback (most recent call last)",
      "\u001b[0;32m<ipython-input-794-d1f514bedc28>\u001b[0m in \u001b[0;36m<module>\u001b[0;34m\u001b[0m\n\u001b[1;32m      6\u001b[0m     \u001b[0mtimes\u001b[0m \u001b[0;34m=\u001b[0m \u001b[0;36m0\u001b[0m\u001b[0;34m\u001b[0m\u001b[0;34m\u001b[0m\u001b[0m\n\u001b[1;32m      7\u001b[0m     \u001b[0;32mfor\u001b[0m \u001b[0mj\u001b[0m \u001b[0;32min\u001b[0m \u001b[0mrange\u001b[0m\u001b[0;34m(\u001b[0m\u001b[0;36m0\u001b[0m\u001b[0;34m,\u001b[0m\u001b[0mwindowsize\u001b[0m\u001b[0;34m)\u001b[0m\u001b[0;34m:\u001b[0m\u001b[0;34m\u001b[0m\u001b[0;34m\u001b[0m\u001b[0m\n\u001b[0;32m----> 8\u001b[0;31m         \u001b[0mtimes\u001b[0m \u001b[0;34m+=\u001b[0m \u001b[0mkmer_appear_times\u001b[0m\u001b[0;34m[\u001b[0m\u001b[0mi\u001b[0m\u001b[0;34m+\u001b[0m\u001b[0mj\u001b[0m\u001b[0;34m]\u001b[0m\u001b[0;34m\u001b[0m\u001b[0;34m\u001b[0m\u001b[0m\n\u001b[0m\u001b[1;32m      9\u001b[0m     \u001b[0mkmer_appear_times_list\u001b[0m\u001b[0;34m[\u001b[0m\u001b[0;36m1\u001b[0m\u001b[0;34m]\u001b[0m\u001b[0;34m.\u001b[0m\u001b[0mappend\u001b[0m\u001b[0;34m(\u001b[0m\u001b[0mtimes\u001b[0m\u001b[0;34m)\u001b[0m\u001b[0;34m\u001b[0m\u001b[0;34m\u001b[0m\u001b[0m\n\u001b[1;32m     10\u001b[0m     \u001b[0mi\u001b[0m \u001b[0;34m=\u001b[0m \u001b[0mi\u001b[0m \u001b[0;34m+\u001b[0m \u001b[0mwindowsize\u001b[0m\u001b[0;34m\u001b[0m\u001b[0;34m\u001b[0m\u001b[0m\n",
      "\u001b[0;31mKeyError\u001b[0m: 0"
     ]
    }
   ],
   "source": [
    "windowsize=100\n",
    "kmer_appear_times_list = [[],[]]\n",
    "i=0\n",
    "while i < len(kmer_appear_times)-windowsize:\n",
    "    kmer_appear_times_list[0].append(i)\n",
    "    times = 0\n",
    "    for j in range(0,windowsize):\n",
    "        times += kmer_appear_times[i+j]\n",
    "    kmer_appear_times_list[1].append(times)\n",
    "    i = i + windowsize"
   ]
  }
 ],
 "metadata": {
  "kernelspec": {
   "display_name": "Python 3",
   "language": "python",
   "name": "python3"
  },
  "language_info": {
   "codemirror_mode": {
    "name": "ipython",
    "version": 3
   },
   "file_extension": ".py",
   "mimetype": "text/x-python",
   "name": "python",
   "nbconvert_exporter": "python",
   "pygments_lexer": "ipython3",
   "version": "3.7.2"
  }
 },
 "nbformat": 4,
 "nbformat_minor": 2
}
