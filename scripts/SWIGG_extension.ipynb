{
 "cells": [
  {
   "cell_type": "markdown",
   "metadata": {},
   "source": [
    "This file is a notebook to debug analyze the graphs produced by Swigg_ext."
   ]
  },
  {
   "cell_type": "code",
   "execution_count": 1,
   "metadata": {
    "collapsed": true
   },
   "outputs": [],
   "source": [
    "from collections import defaultdict\n",
    "import argparse\n",
    "\n",
    "import numpy as np\n",
    "import pandas as pd\n",
    "\n",
    "from collections import Counter\n",
    "from Bio import SeqIO\n",
    "import networkx as nx\n",
    "\n",
    "import matplotlib.pyplot as plt\n",
    "\n",
    "import sys\n",
    "import os\n",
    "sys.setrecursionlimit(500524)"
   ]
  },
  {
   "cell_type": "markdown",
   "metadata": {},
   "source": [
    "### Functions to contract nodes\n",
    "Rules for supernodes: \n",
    "\n",
    "During DFS, continuously add node to the current supernode if the current node is a one-in-one-out node (in degree <=1 and out degree <=1). Otherwise, create a new supernode. "
   ]
  },
  {
   "cell_type": "code",
   "execution_count": 2,
   "metadata": {
    "collapsed": true
   },
   "outputs": [],
   "source": [
    "class DFSOBJ:\n",
    "    supernode_dict = defaultdict()\n",
    "    supernodes = [[]]\n",
    "    snid_g = 0\n",
    "    sn_adj = defaultdict(list)\n",
    "\n",
    "    def DFS(self, source, graph):\n",
    "        visited = defaultdict()\n",
    "        self.sn_adj = defaultdict(list)\n",
    "        self.supernodes = [[]]\n",
    "        self.snid_g = 0\n",
    "        self.supernode_dict = defaultdict()\n",
    "        return self.DFS_sub(source, visited, graph, False)\n",
    "\n",
    "    def DFS_sub(self, curr, visited, graph, split):\n",
    "        visited[curr] = 1\n",
    "        # determine if a split is needed\n",
    "        if split or graph.in_degree(curr)>1 or graph.out_degree(curr)>1:\n",
    "            self.supernodes.append([curr])\n",
    "            self.sn_adj[self.snid_g].append(self.snid_g+1)\n",
    "            self.snid_g+=1\n",
    "        else:\n",
    "            self.supernodes[self.snid_g].append(curr)\n",
    "        self.supernode_dict[curr] = self.snid_g\n",
    "        if graph.out_degree(curr)>1:\n",
    "            split = True\n",
    "        else:\n",
    "            split = False\n",
    "\n",
    "        for n in graph.neighbors(curr):\n",
    "            if n not in visited:\n",
    "                self.DFS_sub(n, visited, graph, split)\n",
    "            else:\n",
    "                if self.supernode_dict[n] not in self.sn_adj[self.snid_g]:\n",
    "                    self.sn_adj[self.snid_g].append(self.supernode_dict[n])"
   ]
  },
  {
   "cell_type": "markdown",
   "metadata": {},
   "source": [
    "### Main Loop\n",
    "If there are 1000 sequences in the fasta file, the script will randomly choose 100 sequences and repeat the process for 10 times.\n",
    "\n",
    "If there are fewer than 1000 sequences, comment out the outer loop."
   ]
  },
  {
   "cell_type": "code",
   "execution_count": 7,
   "metadata": {},
   "outputs": [
    {
     "name": "stdout",
     "output_type": "stream",
     "text": [
      "----- K-mer lengths = 50\n",
      "Number of nodes:  52794\n",
      "Number of edges:  52910\n",
      "Contracting nodes...\n",
      "Number of nodes: 442\n",
      "Number of edges: 558\n"
     ]
    },
    {
     "ename": "FileNotFoundError",
     "evalue": "[Errno 2] No such file or directory: '../HIV2/compactSWIGG_HIV2_50.gexf'",
     "output_type": "error",
     "traceback": [
      "\u001b[0;31m---------------------------------------------------------------------------\u001b[0m",
      "\u001b[0;31mFileNotFoundError\u001b[0m                         Traceback (most recent call last)",
      "\u001b[0;32m<ipython-input-7-e172ba5eb2db>\u001b[0m in \u001b[0;36m<module>\u001b[0;34m\u001b[0m\n\u001b[1;32m     74\u001b[0m     \u001b[0mprint\u001b[0m\u001b[0;34m(\u001b[0m\u001b[0;34m\"Number of nodes: \"\u001b[0m \u001b[0;34m+\u001b[0m \u001b[0mstr\u001b[0m\u001b[0;34m(\u001b[0m\u001b[0mlen\u001b[0m\u001b[0;34m(\u001b[0m\u001b[0mnew_G\u001b[0m\u001b[0;34m.\u001b[0m\u001b[0mnodes\u001b[0m\u001b[0;34m)\u001b[0m\u001b[0;34m)\u001b[0m\u001b[0;34m)\u001b[0m\u001b[0;34m\u001b[0m\u001b[0;34m\u001b[0m\u001b[0m\n\u001b[1;32m     75\u001b[0m     \u001b[0mprint\u001b[0m\u001b[0;34m(\u001b[0m\u001b[0;34m\"Number of edges: \"\u001b[0m \u001b[0;34m+\u001b[0m \u001b[0mstr\u001b[0m\u001b[0;34m(\u001b[0m\u001b[0mlen\u001b[0m\u001b[0;34m(\u001b[0m\u001b[0mnew_G\u001b[0m\u001b[0;34m.\u001b[0m\u001b[0medges\u001b[0m\u001b[0;34m)\u001b[0m\u001b[0;34m)\u001b[0m\u001b[0;34m)\u001b[0m\u001b[0;34m\u001b[0m\u001b[0;34m\u001b[0m\u001b[0m\n\u001b[0;32m---> 76\u001b[0;31m     \u001b[0mnx\u001b[0m\u001b[0;34m.\u001b[0m\u001b[0mwrite_gexf\u001b[0m\u001b[0;34m(\u001b[0m\u001b[0mnew_G\u001b[0m\u001b[0;34m,\u001b[0m \u001b[0moutdir\u001b[0m\u001b[0;34m+\u001b[0m\u001b[0;34m\"compactSWIGG_\"\u001b[0m\u001b[0;34m+\u001b[0m\u001b[0moutputname\u001b[0m\u001b[0;34m+\u001b[0m\u001b[0;34m\".gexf\"\u001b[0m\u001b[0;34m)\u001b[0m\u001b[0;34m\u001b[0m\u001b[0;34m\u001b[0m\u001b[0m\n\u001b[0m",
      "\u001b[0;32m</usr/local/lib/python3.7/site-packages/decorator.py:decorator-gen-752>\u001b[0m in \u001b[0;36mwrite_gexf\u001b[0;34m(G, path, encoding, prettyprint, version)\u001b[0m\n",
      "\u001b[0;32m/usr/local/lib/python3.7/site-packages/networkx/utils/decorators.py\u001b[0m in \u001b[0;36m_open_file\u001b[0;34m(func_to_be_decorated, *args, **kwargs)\u001b[0m\n\u001b[1;32m    212\u001b[0m         \u001b[0;32mif\u001b[0m \u001b[0mis_string_like\u001b[0m\u001b[0;34m(\u001b[0m\u001b[0mpath\u001b[0m\u001b[0;34m)\u001b[0m\u001b[0;34m:\u001b[0m\u001b[0;34m\u001b[0m\u001b[0;34m\u001b[0m\u001b[0m\n\u001b[1;32m    213\u001b[0m             \u001b[0mext\u001b[0m \u001b[0;34m=\u001b[0m \u001b[0msplitext\u001b[0m\u001b[0;34m(\u001b[0m\u001b[0mpath\u001b[0m\u001b[0;34m)\u001b[0m\u001b[0;34m[\u001b[0m\u001b[0;36m1\u001b[0m\u001b[0;34m]\u001b[0m\u001b[0;34m\u001b[0m\u001b[0;34m\u001b[0m\u001b[0m\n\u001b[0;32m--> 214\u001b[0;31m             \u001b[0mfobj\u001b[0m \u001b[0;34m=\u001b[0m \u001b[0m_dispatch_dict\u001b[0m\u001b[0;34m[\u001b[0m\u001b[0mext\u001b[0m\u001b[0;34m]\u001b[0m\u001b[0;34m(\u001b[0m\u001b[0mpath\u001b[0m\u001b[0;34m,\u001b[0m \u001b[0mmode\u001b[0m\u001b[0;34m=\u001b[0m\u001b[0mmode\u001b[0m\u001b[0;34m)\u001b[0m\u001b[0;34m\u001b[0m\u001b[0;34m\u001b[0m\u001b[0m\n\u001b[0m\u001b[1;32m    215\u001b[0m             \u001b[0mclose_fobj\u001b[0m \u001b[0;34m=\u001b[0m \u001b[0;32mTrue\u001b[0m\u001b[0;34m\u001b[0m\u001b[0;34m\u001b[0m\u001b[0m\n\u001b[1;32m    216\u001b[0m         \u001b[0;32melif\u001b[0m \u001b[0mhasattr\u001b[0m\u001b[0;34m(\u001b[0m\u001b[0mpath\u001b[0m\u001b[0;34m,\u001b[0m \u001b[0;34m'read'\u001b[0m\u001b[0;34m)\u001b[0m\u001b[0;34m:\u001b[0m\u001b[0;34m\u001b[0m\u001b[0;34m\u001b[0m\u001b[0m\n",
      "\u001b[0;31mFileNotFoundError\u001b[0m: [Errno 2] No such file or directory: '../HIV2/compactSWIGG_HIV2_50.gexf'"
     ]
    }
   ],
   "source": [
    "seq_list = []\n",
    "k_lengths = [50]\n",
    "fasta = [\"../HIV2.fasta\"] # could be multiple fasta files\n",
    "outdir = \"../HIV2/\"  # make that your own directory (remember to mkdir before using it!) and preferably not in the git repo\n",
    "\n",
    "outputname = os.path.basename(fasta[0]).split(\".\")[0]\n",
    "\n",
    "for seqq in fasta:\n",
    "    seq_list = seq_list + [(str(a.id),str(a.seq)) for a in list(SeqIO.parse(seqq, \"fasta\"))]\n",
    "\n",
    "# random experiments\n",
    "np.random.shuffle(seq_list)\n",
    "    \n",
    "# for seqn in range(0,1000,100):\n",
    "# print(\"====== Seqn = \"+ str(seqn))\n",
    "# outputname = outputname+\"_\"+str(seqn)\n",
    "seq_df = pd.DataFrame(seq_list)\n",
    "#seq_df = pd.DataFrame(seq_list).head()\n",
    "seq_df.columns = [\"name\",\"Sequence\"]\n",
    "\n",
    "name_dict = list(enumerate(seq_df[\"name\"]))\n",
    "\n",
    "for k_length in k_lengths:\n",
    "    outputname = outputname + \"_\" + str(k_length)\n",
    "    print(\"----- K-mer lengths = \"+str(k_length))\n",
    "    kmer_pos_dict = defaultdict(list)\n",
    "    kmer_name_dict = defaultdict(list)\n",
    "    kmer_pos_dict = defaultdict(list)\n",
    "    kmer_dict = set()\n",
    "    \n",
    "    # go through each sequence and find all k-mers\n",
    "    for i in range(len(seq_df)):\n",
    "        name = i\n",
    "        seq = seq_df.loc[i,\"Sequence\"]\n",
    "        for j in range(len(seq)-k_length+1):\n",
    "            kmer_dict.add(seq[j:j+k_length])\n",
    "            \n",
    "    # stores kmer-id pairs for lookup afterwards\n",
    "    kmer_id_list = dict(zip(sorted(list(kmer_dict)), list(range(1,len(kmer_dict)+1))))\n",
    "    id_kmer_list = dict(zip(list(range(1,len(kmer_dict)+1)),sorted(list(kmer_dict))))\n",
    "    \n",
    "    # go through the sequence again and store k-mer adjacencies\n",
    "    edges = defaultdict(list)\n",
    "    for i in range(len(seq_df)):\n",
    "        name = i\n",
    "        seq = seq_df.loc[i,\"Sequence\"]\n",
    "        edges[0].append(kmer_id_list[seq[:k_length]])\n",
    "        for j in range(len(seq)-k_length-1):\n",
    "            edges[kmer_id_list[seq[j:j+k_length]]].append(kmer_id_list[seq[j+1:j+k_length+1]])\n",
    "            kmer_name_dict[kmer_id_list[seq[j:j+k_length]]].append(name)   # stores the origin of the kmer (sample name)\n",
    "            kmer_pos_dict[kmer_id_list[seq[j:j+k_length]]].append(j)       # stores the origin of the kmer (position in genome)\n",
    "        kmer_name_dict[kmer_id_list[seq[len(seq)-k_length:]]].append(name)\n",
    "        kmer_pos_dict[kmer_id_list[seq[len(seq)-k_length:]]].append(j)\n",
    "    \n",
    "    # create initial de bruijn graph\n",
    "    G = nx.DiGraph()\n",
    "    print(\"Number of nodes: \",len(kmer_id_list))\n",
    "    edges_list = []\n",
    "    for j in edges:\n",
    "        for i in edges[j]:\n",
    "            G.add_edge(j,i)\n",
    "            edges_list.append((j,i))\n",
    "    print(\"Number of edges: \",G.number_of_edges())\n",
    "\n",
    "    print(\"Contracting nodes...\")\n",
    "    source = [i for i in G.in_degree() if i[1]==0] # find the source of the graph\n",
    "    a = DFSOBJ()\n",
    "    a.DFS(0, G)\n",
    "    \n",
    "    new_G = nx.DiGraph()\n",
    "    for i in a.sn_adj:\n",
    "        for j in a.sn_adj[i]:\n",
    "            new_G.add_edge(i, j)\n",
    "    print(\"Number of nodes: \" + str(len(new_G.nodes)))\n",
    "    print(\"Number of edges: \" + str(len(new_G.edges)))\n",
    "    nx.write_gexf(new_G, outdir+\"compactSWIGG_\"+outputname+\".gexf\")"
   ]
  },
  {
   "cell_type": "code",
   "execution_count": null,
   "metadata": {
    "collapsed": true
   },
   "outputs": [],
   "source": []
  }
 ],
 "metadata": {
  "kernelspec": {
   "display_name": "Python 3",
   "language": "python",
   "name": "python3"
  },
  "language_info": {
   "codemirror_mode": {
    "name": "ipython",
    "version": 3
   },
   "file_extension": ".py",
   "mimetype": "text/x-python",
   "name": "python",
   "nbconvert_exporter": "python",
   "pygments_lexer": "ipython3",
   "version": "3.7.2"
  }
 },
 "nbformat": 4,
 "nbformat_minor": 2
}
